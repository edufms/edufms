{
  "nbformat": 4,
  "nbformat_minor": 0,
  "metadata": {
    "colab": {
      "name": "Aula04 - Estatistica.ipynb",
      "provenance": [],
      "collapsed_sections": [],
      "authorship_tag": "ABX9TyMBiN4BO9UcLEF77eZ1fVk1",
      "include_colab_link": true
    },
    "kernelspec": {
      "display_name": "Python 3",
      "name": "python3"
    },
    "language_info": {
      "name": "python"
    }
  },
  "cells": [
    {
      "cell_type": "markdown",
      "metadata": {
        "id": "view-in-github",
        "colab_type": "text"
      },
      "source": [
        "<a href=\"https://colab.research.google.com/github/edufms/edufms/blob/main/Aula04_Estatistica.ipynb\" target=\"_parent\"><img src=\"https://colab.research.google.com/assets/colab-badge.svg\" alt=\"Open In Colab\"/></a>"
      ]
    },
    {
      "cell_type": "markdown",
      "metadata": {
        "id": "EI_kLbTlPdjg"
      },
      "source": [
        "IMPORTANDO BIBLIOTECAS QUE SERÃO UTILIZADAS\n",
        "* PANDAS: LER ARQUIVOS DO EXCEL E SALVAR EM UM DATAFRAME;\n",
        "* NUMPY: TRABALHAR COM VETORES"
      ]
    },
    {
      "cell_type": "code",
      "metadata": {
        "id": "RspxA7bRYUMV"
      },
      "source": [
        "import pandas as pd\n",
        "import numpy as np"
      ],
      "execution_count": 7,
      "outputs": []
    },
    {
      "cell_type": "markdown",
      "metadata": {
        "id": "aIevOYlrPsDF"
      },
      "source": [
        "LER ARQUIVO DO EXCEL E EXIBIR RESULTADO NA TELA"
      ]
    },
    {
      "cell_type": "code",
      "metadata": {
        "colab": {
          "base_uri": "https://localhost:8080/",
          "height": 204
        },
        "id": "pjkunEIPvwqB",
        "outputId": "08615b06-6333-49b7-d924-fb0f633814e0"
      },
      "source": [
        "df = pd.read_excel('/content/893054db-b79a-41c2-9c5b-d8cf1d0c4c9a.xlsx')\n",
        "df = df.dropna(axis=1)\n",
        "df.head()"
      ],
      "execution_count": 8,
      "outputs": [
        {
          "output_type": "execute_result",
          "data": {
            "text/html": [
              "<div>\n",
              "<style scoped>\n",
              "    .dataframe tbody tr th:only-of-type {\n",
              "        vertical-align: middle;\n",
              "    }\n",
              "\n",
              "    .dataframe tbody tr th {\n",
              "        vertical-align: top;\n",
              "    }\n",
              "\n",
              "    .dataframe thead th {\n",
              "        text-align: right;\n",
              "    }\n",
              "</style>\n",
              "<table border=\"1\" class=\"dataframe\">\n",
              "  <thead>\n",
              "    <tr style=\"text-align: right;\">\n",
              "      <th></th>\n",
              "      <th>Data</th>\n",
              "      <th>Tempo</th>\n",
              "      <th>Grupo1</th>\n",
              "      <th>Grupo2</th>\n",
              "      <th>Grupo3</th>\n",
              "    </tr>\n",
              "  </thead>\n",
              "  <tbody>\n",
              "    <tr>\n",
              "      <th>0</th>\n",
              "      <td>2019-11-24</td>\n",
              "      <td>00:00:00</td>\n",
              "      <td>0</td>\n",
              "      <td>2</td>\n",
              "      <td>0</td>\n",
              "    </tr>\n",
              "    <tr>\n",
              "      <th>1</th>\n",
              "      <td>2019-11-24</td>\n",
              "      <td>00:01:00</td>\n",
              "      <td>0</td>\n",
              "      <td>1</td>\n",
              "      <td>0</td>\n",
              "    </tr>\n",
              "    <tr>\n",
              "      <th>2</th>\n",
              "      <td>2019-11-24</td>\n",
              "      <td>00:02:00</td>\n",
              "      <td>0</td>\n",
              "      <td>2</td>\n",
              "      <td>0</td>\n",
              "    </tr>\n",
              "    <tr>\n",
              "      <th>3</th>\n",
              "      <td>2019-11-24</td>\n",
              "      <td>00:03:00</td>\n",
              "      <td>0</td>\n",
              "      <td>1</td>\n",
              "      <td>0</td>\n",
              "    </tr>\n",
              "    <tr>\n",
              "      <th>4</th>\n",
              "      <td>2019-11-24</td>\n",
              "      <td>00:04:00</td>\n",
              "      <td>0</td>\n",
              "      <td>1</td>\n",
              "      <td>0</td>\n",
              "    </tr>\n",
              "  </tbody>\n",
              "</table>\n",
              "</div>"
            ],
            "text/plain": [
              "         Data     Tempo  Grupo1  Grupo2  Grupo3\n",
              "0  2019-11-24  00:00:00       0       2       0\n",
              "1  2019-11-24  00:01:00       0       1       0\n",
              "2  2019-11-24  00:02:00       0       2       0\n",
              "3  2019-11-24  00:03:00       0       1       0\n",
              "4  2019-11-24  00:04:00       0       1       0"
            ]
          },
          "metadata": {
            "tags": []
          },
          "execution_count": 8
        }
      ]
    },
    {
      "cell_type": "markdown",
      "metadata": {
        "id": "iPotraoSQBdv"
      },
      "source": [
        "1ª ETAPA DA ANALISE ESTATISTICA\n",
        "* UTILIZAR O MÉTODO describe() PARA EXIBIR A MÉDIA, DESVIO PADRAO, MEDIANA, 1º QUARTIL, 3º QUARTIL, MAX E MINIMO.\n",
        "* SALVAR EM VARIAVEIS A MÉDIA E O DESVIO PADRÃO"
      ]
    },
    {
      "cell_type": "code",
      "metadata": {
        "colab": {
          "base_uri": "https://localhost:8080/",
          "height": 297
        },
        "id": "piVNpEEhv5pU",
        "outputId": "e93d3125-0eff-4946-ca03-bd123cf5bf34"
      },
      "source": [
        "media = df.mean()\n",
        "desviopadrao = df.std()\n",
        "df.describe()"
      ],
      "execution_count": null,
      "outputs": [
        {
          "output_type": "execute_result",
          "data": {
            "text/html": [
              "<div>\n",
              "<style scoped>\n",
              "    .dataframe tbody tr th:only-of-type {\n",
              "        vertical-align: middle;\n",
              "    }\n",
              "\n",
              "    .dataframe tbody tr th {\n",
              "        vertical-align: top;\n",
              "    }\n",
              "\n",
              "    .dataframe thead th {\n",
              "        text-align: right;\n",
              "    }\n",
              "</style>\n",
              "<table border=\"1\" class=\"dataframe\">\n",
              "  <thead>\n",
              "    <tr style=\"text-align: right;\">\n",
              "      <th></th>\n",
              "      <th>Grupo1</th>\n",
              "      <th>Grupo2</th>\n",
              "      <th>Grupo3</th>\n",
              "    </tr>\n",
              "  </thead>\n",
              "  <tbody>\n",
              "    <tr>\n",
              "      <th>count</th>\n",
              "      <td>2880.000000</td>\n",
              "      <td>2880.000000</td>\n",
              "      <td>2880.000000</td>\n",
              "    </tr>\n",
              "    <tr>\n",
              "      <th>mean</th>\n",
              "      <td>0.754167</td>\n",
              "      <td>1.136806</td>\n",
              "      <td>6.005556</td>\n",
              "    </tr>\n",
              "    <tr>\n",
              "      <th>std</th>\n",
              "      <td>4.909955</td>\n",
              "      <td>5.166895</td>\n",
              "      <td>8.329776</td>\n",
              "    </tr>\n",
              "    <tr>\n",
              "      <th>min</th>\n",
              "      <td>0.000000</td>\n",
              "      <td>0.000000</td>\n",
              "      <td>0.000000</td>\n",
              "    </tr>\n",
              "    <tr>\n",
              "      <th>25%</th>\n",
              "      <td>0.000000</td>\n",
              "      <td>0.000000</td>\n",
              "      <td>0.000000</td>\n",
              "    </tr>\n",
              "    <tr>\n",
              "      <th>50%</th>\n",
              "      <td>0.000000</td>\n",
              "      <td>0.000000</td>\n",
              "      <td>0.000000</td>\n",
              "    </tr>\n",
              "    <tr>\n",
              "      <th>75%</th>\n",
              "      <td>0.000000</td>\n",
              "      <td>1.000000</td>\n",
              "      <td>17.000000</td>\n",
              "    </tr>\n",
              "    <tr>\n",
              "      <th>max</th>\n",
              "      <td>38.000000</td>\n",
              "      <td>40.000000</td>\n",
              "      <td>19.000000</td>\n",
              "    </tr>\n",
              "  </tbody>\n",
              "</table>\n",
              "</div>"
            ],
            "text/plain": [
              "            Grupo1       Grupo2       Grupo3\n",
              "count  2880.000000  2880.000000  2880.000000\n",
              "mean      0.754167     1.136806     6.005556\n",
              "std       4.909955     5.166895     8.329776\n",
              "min       0.000000     0.000000     0.000000\n",
              "25%       0.000000     0.000000     0.000000\n",
              "50%       0.000000     0.000000     0.000000\n",
              "75%       0.000000     1.000000    17.000000\n",
              "max      38.000000    40.000000    19.000000"
            ]
          },
          "metadata": {
            "tags": []
          },
          "execution_count": 24
        }
      ]
    },
    {
      "cell_type": "markdown",
      "metadata": {
        "id": "9yH9bObXQckU"
      },
      "source": [
        "CALCULAR COEFICIENTE DE VARIANCIA\n",
        "> cv = desvio padrao / media\n"
      ]
    },
    {
      "cell_type": "code",
      "metadata": {
        "colab": {
          "base_uri": "https://localhost:8080/"
        },
        "id": "9sgqDBzWyhyc",
        "outputId": "6864e634-e663-4d4e-f960-1ed46c4f1136"
      },
      "source": [
        "CV = desviopadrao / media\n",
        "CV"
      ],
      "execution_count": null,
      "outputs": [
        {
          "output_type": "execute_result",
          "data": {
            "text/plain": [
              "Grupo1    6.510438\n",
              "Grupo2    4.545100\n",
              "Grupo3    1.387012\n",
              "dtype: float64"
            ]
          },
          "metadata": {
            "tags": []
          },
          "execution_count": 26
        }
      ]
    },
    {
      "cell_type": "markdown",
      "metadata": {
        "id": "55pCRrxnQpA2"
      },
      "source": [
        "CALCULAR AMPLITUDE\n",
        "> A = MAX - MIN"
      ]
    },
    {
      "cell_type": "code",
      "metadata": {
        "colab": {
          "base_uri": "https://localhost:8080/"
        },
        "id": "Q0eg5c1_z-rH",
        "outputId": "0f7ebc5d-40fb-4271-90c6-0a60796a6e27"
      },
      "source": [
        "A1 = df['Grupo1'].max() - df['Grupo1'].min()\n",
        "A2 = df['Grupo2'].max() - df['Grupo2'].min()\n",
        "A3 = df['Grupo3'].max() - df['Grupo3'].min()\n",
        "print(f'Amplitude 1: {A1}')\n",
        "print(f'Amplitude 2: {A2}')\n",
        "print(f'Amplitude 3: {A3}')"
      ],
      "execution_count": null,
      "outputs": [
        {
          "output_type": "stream",
          "text": [
            "Amplitude 1: 38\n",
            "Amplitude 2: 40\n",
            "Amplitude 3: 19\n"
          ],
          "name": "stdout"
        }
      ]
    }
  ]
}